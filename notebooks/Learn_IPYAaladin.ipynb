{
 "cells": [
  {
   "cell_type": "markdown",
   "id": "54a017fa-2987-43b1-ac7f-afbe534af09f",
   "metadata": {},
   "source": [
    "# Learn about ipyaladin\n",
    "\n",
    "- [ipyaladin](https://www.youtube.com/watch?v=E98vouSlbU4)"
   ]
  },
  {
   "cell_type": "code",
   "execution_count": 1,
   "id": "dc9cf4cd-dd89-454e-9a38-fae4560fb7ee",
   "metadata": {},
   "outputs": [],
   "source": [
    "#!pip install ipyaladin\n",
    "#!pip install sidecar\n",
    "#!pip install regions\n",
    "#!pip install MOC"
   ]
  },
  {
   "cell_type": "code",
   "execution_count": 2,
   "id": "493cd5f2-cde2-49ee-be8d-6b06b48f96b4",
   "metadata": {},
   "outputs": [],
   "source": [
    "from ipyaladin import Aladin\n",
    "from sidecar import Sidecar"
   ]
  },
  {
   "cell_type": "code",
   "execution_count": 3,
   "id": "5aeb56ae-a53e-4220-8e3d-ef0f07933a15",
   "metadata": {},
   "outputs": [],
   "source": [
    "aladin = Aladin()\n",
    "with Sidecar(title=\"aladin-output\"):\n",
    "    display(aladin)"
   ]
  },
  {
   "cell_type": "code",
   "execution_count": 4,
   "id": "8c85daba-c23b-4a27-9fe0-8dab65c6b22f",
   "metadata": {},
   "outputs": [],
   "source": [
    "aladin.target = \"M31\""
   ]
  },
  {
   "cell_type": "code",
   "execution_count": 5,
   "id": "6f9c5929-9e5b-45f4-82b4-02cdc95f4122",
   "metadata": {},
   "outputs": [],
   "source": [
    "from astropy.coordinates import SkyCoord, Angle\n",
    "import astropy.units as u "
   ]
  },
  {
   "cell_type": "code",
   "execution_count": 6,
   "id": "60848b30-410f-401e-b29c-b515cc471a80",
   "metadata": {},
   "outputs": [],
   "source": [
    "coor_perseus = SkyCoord.from_name(\"Perseus Cluster\")"
   ]
  },
  {
   "cell_type": "code",
   "execution_count": 7,
   "id": "fc0e2161-bff1-48e2-a561-3e089d6efb36",
   "metadata": {},
   "outputs": [],
   "source": [
    "aladin.target = coor_perseus"
   ]
  },
  {
   "cell_type": "code",
   "execution_count": 8,
   "id": "67ffd315-5c55-4d2c-83bb-25d797cf90dd",
   "metadata": {},
   "outputs": [
    {
     "data": {
      "text/plain": [
       "<SkyCoord (ICRS): (ra, dec) in deg\n",
       "    (49.9482, 41.515)>"
      ]
     },
     "execution_count": 8,
     "metadata": {},
     "output_type": "execute_result"
    }
   ],
   "source": [
    "coor_perseus"
   ]
  },
  {
   "cell_type": "code",
   "execution_count": 9,
   "id": "071b96dc-016f-4add-be93-194ee3263ad3",
   "metadata": {},
   "outputs": [],
   "source": [
    "aladin.fov = Angle(15*u.arcmin)"
   ]
  },
  {
   "cell_type": "code",
   "execution_count": 10,
   "id": "0f0792cf-f560-4c19-9c14-4c45a39ffcff",
   "metadata": {},
   "outputs": [],
   "source": [
    "estimated_dimension = aladin.fov"
   ]
  },
  {
   "cell_type": "code",
   "execution_count": 11,
   "id": "b250482a-79b7-48cf-80b4-6b61f4185580",
   "metadata": {},
   "outputs": [
    {
     "data": {
      "text/latex": [
       "$0^\\circ15{}^\\prime00{}^{\\prime\\prime}$"
      ],
      "text/plain": [
       "<Angle 0.25 deg>"
      ]
     },
     "execution_count": 11,
     "metadata": {},
     "output_type": "execute_result"
    }
   ],
   "source": [
    "estimated_dimension"
   ]
  },
  {
   "cell_type": "code",
   "execution_count": 12,
   "id": "d49fd256-37c6-47c8-b7b4-a7df6978609a",
   "metadata": {},
   "outputs": [],
   "source": [
    "from regions import  CircleSkyRegion"
   ]
  },
  {
   "cell_type": "code",
   "execution_count": 13,
   "id": "9f5b7060-8cff-4985-8d18-a244e4b362ee",
   "metadata": {},
   "outputs": [],
   "source": [
    "aladin.add_graphic_overlay_from_region(CircleSkyRegion(coor_perseus,estimated_dimension),color=\"salmon\",line_dash=[5],name=\"cluster_dimension\")"
   ]
  },
  {
   "cell_type": "code",
   "execution_count": 14,
   "id": "5d3608b2-0b61-46e2-a128-0473c2f9f43c",
   "metadata": {},
   "outputs": [],
   "source": [
    "from mocpy import MOC"
   ]
  },
  {
   "cell_type": "code",
   "execution_count": null,
   "id": "54638cf6-613d-4e46-ac23-eade64e4c374",
   "metadata": {},
   "outputs": [],
   "source": []
  }
 ],
 "metadata": {
  "kernelspec": {
   "display_name": "conda_py310",
   "language": "python",
   "name": "conda_py310"
  },
  "language_info": {
   "codemirror_mode": {
    "name": "ipython",
    "version": 3
   },
   "file_extension": ".py",
   "mimetype": "text/x-python",
   "name": "python",
   "nbconvert_exporter": "python",
   "pygments_lexer": "ipython3",
   "version": "3.10.12"
  }
 },
 "nbformat": 4,
 "nbformat_minor": 5
}
